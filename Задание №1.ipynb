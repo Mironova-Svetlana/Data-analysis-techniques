{
 "cells": [
  {
   "cell_type": "markdown",
   "metadata": {},
   "source": [
    "# Криптографические методы защиты информации"
   ]
  },
  {
   "cell_type": "markdown",
   "metadata": {},
   "source": [
    "## Задача №1"
   ]
  },
  {
   "cell_type": "code",
   "execution_count": null,
   "metadata": {},
   "outputs": [],
   "source": [
    "from sys import argv\n",
    "import re"
   ]
  },
  {
   "cell_type": "code",
   "execution_count": null,
   "metadata": {},
   "outputs": [],
   "source": [
    "rus = ['а','б','в','г','д','е','ё','ж','з','и','й','к','л','м','н','о','п','р','с','т','у','ф','ч','ц','ч','ш','щ','ъ','ы','ь','э','ю','я']\n",
    "RUS = ['А','Б','В','Г','Д','Е','Ё','Ж','З','И','Й','К','Л','М','Н','О','П','Р','С','Т','У','Ф','Ч','Ц','Ч','Ш','Щ','Ъ','Ы','Ь','Э','Ю','Я']\n",
    "en = ['a','b','c','d','e','f','g','h','i','j','k','l','m','n','o','p','q','r','s','t','u','v','w','x','y','z']\n",
    "EN = ['A','B','C','D','E','F','G','H','I','J','K','L','M','N','O','P','Q','R','S','T','U','V','W','X','Y','Z']"
   ]
  },
  {
   "cell_type": "code",
   "execution_count": null,
   "metadata": {},
   "outputs": [],
   "source": [
    "res = \"\"\n",
    "f = open('C:\\\\Users\\\\user\\\\Desktop\\\\Война и мир.txt', 'r', encoding='utf-8')\n",
    "text = f.read()\n",
    "f.close()\n",
    "for x in text:\n",
    "    if x in rus:\n",
    "        ind = rus.index(x)\n",
    "        res += rus[(ind+15)%len(rus)]\n",
    "    elif x in RUS:\n",
    "        ind = RUS.index(x)\n",
    "        res += RUS[(ind+15)%len(RUS)]\n",
    "    elif x in en:\n",
    "        ind = en.index(x)\n",
    "        res += en[(ind+15)%len(en)]\n",
    "    elif x in EN:\n",
    "        ind = EN.index(x)\n",
    "        res += EN[(ind+15)%len(EN)]\n",
    "    else: res += x  \n",
    "        \n",
    "f = open(\"C:\\\\Users\\\\user\\\\Desktop\\\\Шифровка Война и мир.txt\", 'w')\n",
    "f.write(res)\n",
    "f.close()   "
   ]
  },
  {
   "cell_type": "code",
   "execution_count": null,
   "metadata": {},
   "outputs": [],
   "source": [
    "res = \"\"\n",
    "f = open(\"C:\\\\Users\\\\user\\\\Desktop\\\\КМЗИ\\\\enc.text.txt\", 'r')\n",
    "text = f.read()\n",
    "f.close\n",
    "for x in text:\n",
    "    if x in rus:\n",
    "        ind = rus.index(x)\n",
    "        res += rus[(ind-15+len(rus))%len(rus)]\n",
    "    elif x in RUS:\n",
    "        ind = RUS.index(x)\n",
    "        res += RUS[(ind-15+len(RUS))%len(RUS)]\n",
    "    elif x in en:\n",
    "        ind = en.index(x)\n",
    "        res += en[(ind-15+len(en))%len(en)]\n",
    "    elif x in EN:\n",
    "        ind = EN.index(x)\n",
    "        res += EN[(ind-15+len(EN))%len(EN)]\n",
    "    else: res += x\n",
    "\n",
    "f = open(\"C:\\\\Users\\\\user\\\\Desktop\\\\КМЗИ\\\\dec.text.txt\", 'w')\n",
    "f.write(res)\n",
    "f.close()"
   ]
  },
  {
   "cell_type": "code",
   "execution_count": 55,
   "metadata": {},
   "outputs": [
    {
     "ename": "NameError",
     "evalue": "name 'counter' is not defined",
     "output_type": "error",
     "traceback": [
      "\u001b[1;31m---------------------------------------------------------------------------\u001b[0m",
      "\u001b[1;31mNameError\u001b[0m                                 Traceback (most recent call last)",
      "\u001b[1;32m<ipython-input-55-cc37e9de2bd5>\u001b[0m in \u001b[0;36m<module>\u001b[1;34m\u001b[0m\n\u001b[0;32m      3\u001b[0m \u001b[1;32mimport\u001b[0m \u001b[0mre\u001b[0m\u001b[1;33m\u001b[0m\u001b[1;33m\u001b[0m\u001b[0m\n\u001b[0;32m      4\u001b[0m \u001b[0mnewtext\u001b[0m \u001b[1;33m=\u001b[0m \u001b[0msorted\u001b[0m\u001b[1;33m(\u001b[0m\u001b[0mre\u001b[0m\u001b[1;33m.\u001b[0m\u001b[0msub\u001b[0m\u001b[1;33m(\u001b[0m\u001b[1;34m'[^а-я]'\u001b[0m\u001b[1;33m,\u001b[0m \u001b[1;34m\"\"\u001b[0m\u001b[1;33m,\u001b[0m \u001b[0mtext\u001b[0m\u001b[1;33m)\u001b[0m\u001b[1;33m)\u001b[0m\u001b[1;33m\u001b[0m\u001b[1;33m\u001b[0m\u001b[0m\n\u001b[1;32m----> 5\u001b[1;33m \u001b[0mcount_text\u001b[0m \u001b[1;33m=\u001b[0m \u001b[0mcounter\u001b[0m\u001b[1;33m(\u001b[0m\u001b[0mnewtext\u001b[0m\u001b[1;33m)\u001b[0m\u001b[1;33m\u001b[0m\u001b[1;33m\u001b[0m\u001b[0m\n\u001b[0m\u001b[0;32m      6\u001b[0m \u001b[0mplt\u001b[0m\u001b[1;33m.\u001b[0m\u001b[0mbar\u001b[0m\u001b[1;33m(\u001b[0m\u001b[0mcount_text\u001b[0m\u001b[1;33m.\u001b[0m\u001b[0mkeys\u001b[0m\u001b[1;33m(\u001b[0m\u001b[1;33m)\u001b[0m\u001b[1;33m,\u001b[0m \u001b[0mcount_text\u001b[0m\u001b[1;33m.\u001b[0m\u001b[0mvalues\u001b[0m\u001b[1;33m(\u001b[0m\u001b[1;33m)\u001b[0m\u001b[1;33m)\u001b[0m\u001b[1;33m\u001b[0m\u001b[1;33m\u001b[0m\u001b[0m\n\u001b[0;32m      7\u001b[0m \u001b[0mplt\u001b[0m\u001b[1;33m.\u001b[0m\u001b[0mshow\u001b[0m\u001b[1;33m(\u001b[0m\u001b[1;33m)\u001b[0m\u001b[1;33m\u001b[0m\u001b[1;33m\u001b[0m\u001b[0m\n",
      "\u001b[1;31mNameError\u001b[0m: name 'counter' is not defined"
     ]
    }
   ],
   "source": [
    "f = open (\"C:\\\\Users\\\\user\\\\Desktop\\\\КМЗИ\\\\Доп. материалы\\\\Война и мир.txt\", 'r')\n",
    "text = sorted(re.sub('[^а-яё]', \"\", f.read()))\n",
    "count_text = counter(text)\n",
    "plt.bar(count_text.keys(), count_text.values())\n",
    "plt.show()\n",
    "f.close"
   ]
  },
  {
   "cell_type": "code",
   "execution_count": null,
   "metadata": {},
   "outputs": [],
   "source": [
    "letter_count = 0\n",
    "with open(\"C:\\\\Users\\\\user\\\\Desktop\\\\КМЗИ\\\\Доп. материалы\\\\Война и мир.txt\", 'r') as f:\n",
    "    letter_count += len(re.sub('[^а-яА-Я]', '', f.read()))\n",
    "print (letter_count)\n",
    "plt.show()\n",
    "f.close"
   ]
  },
  {
   "cell_type": "code",
   "execution_count": null,
   "metadata": {},
   "outputs": [],
   "source": []
  }
 ],
 "metadata": {
  "kernelspec": {
   "display_name": "Python 3",
   "language": "python",
   "name": "python3"
  },
  "language_info": {
   "codemirror_mode": {
    "name": "ipython",
    "version": 3
   },
   "file_extension": ".py",
   "mimetype": "text/x-python",
   "name": "python",
   "nbconvert_exporter": "python",
   "pygments_lexer": "ipython3",
   "version": "3.8.3"
  }
 },
 "nbformat": 4,
 "nbformat_minor": 4
}
